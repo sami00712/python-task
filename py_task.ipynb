{
  "nbformat": 4,
  "nbformat_minor": 0,
  "metadata": {
    "colab": {
      "provenance": [],
      "authorship_tag": "ABX9TyPREpCwm84njfD2iAkMCRIb",
      "include_colab_link": true
    },
    "kernelspec": {
      "name": "python3",
      "display_name": "Python 3"
    },
    "language_info": {
      "name": "python"
    }
  },
  "cells": [
    {
      "cell_type": "markdown",
      "metadata": {
        "id": "view-in-github",
        "colab_type": "text"
      },
      "source": [
        "<a href=\"https://colab.research.google.com/github/sami00712/python-task/blob/main/py_task.ipynb\" target=\"_parent\"><img src=\"https://colab.research.google.com/assets/colab-badge.svg\" alt=\"Open In Colab\"/></a>"
      ]
    },
    {
      "cell_type": "markdown",
      "source": [
        "Create a variable for your name, age, and your favorite number.\n",
        "\n",
        "Print their data types using type().\n",
        "\n",
        "Convert your favorite number to a string and print the result."
      ],
      "metadata": {
        "id": "5pA6PwzkBrBb"
      }
    },
    {
      "cell_type": "code",
      "execution_count": null,
      "metadata": {
        "colab": {
          "base_uri": "https://localhost:8080/"
        },
        "id": "Mw64v4mtBinf",
        "outputId": "2a0348e6-472a-44cf-b9a4-55a9cde6f8fc"
      },
      "outputs": [
        {
          "output_type": "stream",
          "name": "stdout",
          "text": [
            "<class 'str'> <class 'int'> <class 'int'>\n",
            "<class 'str'> 10\n"
          ]
        }
      ],
      "source": [
        "name = \"sami\"\n",
        "age = 18\n",
        "favorite_number = 10\n",
        "\n",
        "print(type(name), type(age), type(favorite_number))\n",
        "\n",
        "fvrt_nmbr = str(favorite_number)\n",
        "print(type(fvrt_nmbr), fvrt_nmbr)"
      ]
    },
    {
      "cell_type": "markdown",
      "source": [
        "# **# 🧪 Practice Tasks:**\n",
        "\n",
        "\n",
        "1- Write a program that checks if a number is positive, negative, or zero.\n",
        "\n",
        "\n",
        "\n",
        "\n",
        "\n"
      ],
      "metadata": {
        "id": "l006Ort83FMM"
      }
    },
    {
      "cell_type": "code",
      "source": [
        "num = int(input(\"Enter a number: \"))\n",
        "\n",
        "if num > 0:\n",
        "  print(\"Number is Positive !!\")\n",
        "elif num < 0:\n",
        "  print(\"Number is Negative !!\")\n",
        "else:\n",
        "  print(\"Number is Zero !!\")"
      ],
      "metadata": {
        "colab": {
          "base_uri": "https://localhost:8080/"
        },
        "id": "R2J_7ZIa3iVl",
        "outputId": "4d10c384-721f-492e-b971-eb80fad1121c"
      },
      "execution_count": null,
      "outputs": [
        {
          "output_type": "stream",
          "name": "stdout",
          "text": [
            "Enter a number: 0\n",
            "Number is Zero !!\n"
          ]
        }
      ]
    },
    {
      "cell_type": "markdown",
      "source": [
        "2- Write a program that checks if your name is \"Sami\"\n",
        " — if yes, print \"Welcome, Sami!\", else \"Who are you?\"."
      ],
      "metadata": {
        "id": "kpLHytSy48Zu"
      }
    },
    {
      "cell_type": "code",
      "source": [
        "name = \"Sami\"\n",
        "if name == \"Sami\":\n",
        "  print(\"Welcome Sami !!\")\n",
        "else:\n",
        "  print(\"Who are you ??\")"
      ],
      "metadata": {
        "colab": {
          "base_uri": "https://localhost:8080/"
        },
        "id": "3qObjHNv4-Cr",
        "outputId": "51d533a1-0b2e-40de-f54d-ca1f2b6d14a2"
      },
      "execution_count": null,
      "outputs": [
        {
          "output_type": "stream",
          "name": "stdout",
          "text": [
            "Welcome Sami !!\n"
          ]
        }
      ]
    },
    {
      "cell_type": "markdown",
      "source": [
        "3- Write a grading system using marks input."
      ],
      "metadata": {
        "id": "LQNdSVAf5oj-"
      }
    },
    {
      "cell_type": "code",
      "source": [
        "marks = int(input(\"Enter your marks: \"))\n",
        "if marks >= 90:\n",
        "  print(\"You are A1 Grade !!\")\n",
        "elif marks >= 80:\n",
        "  print(\"You are A Grade !!\")\n",
        "elif marks >= 70:\n",
        "  print(\"you are B Grade !!\")\n",
        "elif marks >= 33:\n",
        "  print(\"You are C Grade !!\")\n",
        "else:\n",
        "  print(\"You are Fail !!!\")"
      ],
      "metadata": {
        "colab": {
          "base_uri": "https://localhost:8080/"
        },
        "id": "iyIj-2vZ5ptu",
        "outputId": "84885e43-6388-4dbb-b52a-9c45aa6001b8"
      },
      "execution_count": null,
      "outputs": [
        {
          "output_type": "stream",
          "name": "stdout",
          "text": [
            "Enter your marks: 97\n",
            "You are A1 Grade !!\n"
          ]
        }
      ]
    },
    {
      "cell_type": "markdown",
      "source": [
        "A person wants to enter an event. The rules are:\n",
        "\n",
        "The person must be 18 years or older.\n",
        "\n",
        "The person must also have a valid ticket (True/False)."
      ],
      "metadata": {
        "id": "qBpKz9Z-8Xhg"
      }
    },
    {
      "cell_type": "code",
      "source": [
        "age = int(input(\"Enter your age: \"))\n",
        "ticket = input(\"Do you have ticket Yes or No ??: \")\n",
        "\n",
        "if age >= 18:\n",
        "  if ticket == \"Yes\":\n",
        "    print(\"Entry ✔✔\")\n",
        "  else:\n",
        "    print(\"Ticket ❌\")\n",
        "else:\n",
        "  print(\"No Entry ❌❌\")"
      ],
      "metadata": {
        "colab": {
          "base_uri": "https://localhost:8080/"
        },
        "id": "mYkU-0NI8gSQ",
        "outputId": "27ce8c24-32d0-4258-fb64-2325721e618b"
      },
      "execution_count": null,
      "outputs": [
        {
          "output_type": "stream",
          "name": "stdout",
          "text": [
            "Enter your age: 16\n",
            "Do you have ticket Yes or No ??: No\n",
            "No Entry ❌❌\n"
          ]
        }
      ]
    },
    {
      "cell_type": "markdown",
      "source": [
        "# **# 🧪 Practice Tasks:**\n",
        "Print numbers from 1 to 10 using a for loop."
      ],
      "metadata": {
        "id": "bHNB8-efgIci"
      }
    },
    {
      "cell_type": "code",
      "source": [
        "for i in range(1,11):\n",
        "  print(i)"
      ],
      "metadata": {
        "colab": {
          "base_uri": "https://localhost:8080/"
        },
        "id": "pLDY2zB_gTsg",
        "outputId": "98c18574-6f22-461f-eea0-d20530a8697f"
      },
      "execution_count": null,
      "outputs": [
        {
          "output_type": "stream",
          "name": "stdout",
          "text": [
            "1\n",
            "2\n",
            "3\n",
            "4\n",
            "5\n",
            "6\n",
            "7\n",
            "8\n",
            "9\n",
            "10\n"
          ]
        }
      ]
    },
    {
      "cell_type": "markdown",
      "source": [
        "Print even numbers from 2 to 20 using for and range()."
      ],
      "metadata": {
        "id": "F0qdEOimhSEC"
      }
    },
    {
      "cell_type": "code",
      "source": [
        "for i in range(2,21,2):\n",
        "  print(i)"
      ],
      "metadata": {
        "colab": {
          "base_uri": "https://localhost:8080/"
        },
        "id": "j3UfXfv_hUIj",
        "outputId": "db869527-30e9-4eb7-8671-7c3b7c916724"
      },
      "execution_count": null,
      "outputs": [
        {
          "output_type": "stream",
          "name": "stdout",
          "text": [
            "2\n",
            "4\n",
            "6\n",
            "8\n",
            "10\n",
            "12\n",
            "14\n",
            "16\n",
            "18\n",
            "20\n"
          ]
        }
      ]
    },
    {
      "cell_type": "markdown",
      "source": [
        "Print 1 to 5 using a while loop"
      ],
      "metadata": {
        "id": "yw6TiRTRhq-S"
      }
    },
    {
      "cell_type": "code",
      "source": [
        "num = 1\n",
        "while num <= 5:\n",
        "  print(num)\n",
        "  num +=1"
      ],
      "metadata": {
        "colab": {
          "base_uri": "https://localhost:8080/"
        },
        "id": "IfPT0D2Zhr2Z",
        "outputId": "212805cd-b485-44df-b288-82b54b8c148d"
      },
      "execution_count": null,
      "outputs": [
        {
          "output_type": "stream",
          "name": "stdout",
          "text": [
            "1\n",
            "2\n",
            "3\n",
            "4\n",
            "5\n"
          ]
        }
      ]
    },
    {
      "cell_type": "markdown",
      "source": [
        "Use a for loop with break to stop the loop when the number reaches 4."
      ],
      "metadata": {
        "id": "1H5w2X-RimZI"
      }
    },
    {
      "cell_type": "code",
      "source": [
        "for i in range(10):\n",
        "  if i == 4:\n",
        "    break\n",
        "  print(i)"
      ],
      "metadata": {
        "colab": {
          "base_uri": "https://localhost:8080/"
        },
        "id": "OVxXP3DMin_J",
        "outputId": "767a2ebc-bc9c-44c6-f640-88925d4c3af0"
      },
      "execution_count": null,
      "outputs": [
        {
          "output_type": "stream",
          "name": "stdout",
          "text": [
            "0\n",
            "1\n",
            "2\n",
            "3\n"
          ]
        }
      ]
    },
    {
      "cell_type": "markdown",
      "source": [
        " Use continue to skip number 3 in a loop from 1 to 5."
      ],
      "metadata": {
        "id": "ppiAnsK8jKAh"
      }
    },
    {
      "cell_type": "code",
      "source": [
        "for i in range(5):\n",
        "  if i == 3:\n",
        "    continue\n",
        "  print(i)"
      ],
      "metadata": {
        "colab": {
          "base_uri": "https://localhost:8080/"
        },
        "id": "O0GWuXypjLI5",
        "outputId": "4fe4e22a-ebec-4b7d-f31a-4dd94812ba3c"
      },
      "execution_count": null,
      "outputs": [
        {
          "output_type": "stream",
          "name": "stdout",
          "text": [
            "0\n",
            "1\n",
            "2\n",
            "4\n"
          ]
        }
      ]
    },
    {
      "cell_type": "markdown",
      "source": [
        "Create a simple function that prints your name."
      ],
      "metadata": {
        "id": "GueiaQtuRfNI"
      }
    },
    {
      "cell_type": "code",
      "source": [
        "def my_name():\n",
        "  print(\"My name is Sami\")\n",
        "\n",
        "my_name()"
      ],
      "metadata": {
        "colab": {
          "base_uri": "https://localhost:8080/"
        },
        "id": "YG30um93Rio9",
        "outputId": "e5733914-c02d-4360-898e-719168433f76"
      },
      "execution_count": null,
      "outputs": [
        {
          "output_type": "stream",
          "name": "stdout",
          "text": [
            "My name is Sami\n"
          ]
        }
      ]
    },
    {
      "cell_type": "markdown",
      "source": [
        "Create a function that takes a number and prints its square."
      ],
      "metadata": {
        "id": "4Uu3-85nSUTl"
      }
    },
    {
      "cell_type": "code",
      "source": [
        "def square(num):\n",
        "  print(num**2)\n",
        "\n",
        "square(6)"
      ],
      "metadata": {
        "colab": {
          "base_uri": "https://localhost:8080/"
        },
        "id": "o1VQyQbLSZNp",
        "outputId": "e5108f7a-9087-481f-b7f7-98d255e2361f"
      },
      "execution_count": null,
      "outputs": [
        {
          "output_type": "stream",
          "name": "stdout",
          "text": [
            "36\n"
          ]
        }
      ]
    },
    {
      "cell_type": "markdown",
      "source": [
        "Create a function that takes two numbers and returns their sum."
      ],
      "metadata": {
        "id": "mNzEjzAqS-90"
      }
    },
    {
      "cell_type": "code",
      "source": [
        "def sum(num1, num2):\n",
        "  print(num1 + num2)\n",
        "\n",
        "sum(4,7)\n",
        "sum(3,3)"
      ],
      "metadata": {
        "colab": {
          "base_uri": "https://localhost:8080/"
        },
        "id": "MQ5dPa6hS_1l",
        "outputId": "caebf606-6759-4f32-a187-05448ff3fd0b"
      },
      "execution_count": null,
      "outputs": [
        {
          "output_type": "stream",
          "name": "stdout",
          "text": [
            "11\n",
            "6\n"
          ]
        }
      ]
    },
    {
      "cell_type": "markdown",
      "source": [
        "Create a function that checks if a number is even or odd and prints the result."
      ],
      "metadata": {
        "id": "X4YM0QhcT0Lb"
      }
    },
    {
      "cell_type": "code",
      "source": [
        "def even_odd(num):\n",
        "  if num % 2 == 0:\n",
        "    print(\"Even Number\")\n",
        "  else:\n",
        "    print(\"Odd Number\")\n",
        "\n",
        "even_odd(int(input(\"Enter a number to check odd or even: \")))\n"
      ],
      "metadata": {
        "colab": {
          "base_uri": "https://localhost:8080/"
        },
        "id": "-mppqvs7T2vU",
        "outputId": "c82d21d8-cea0-46c4-81df-e400006a4fa9"
      },
      "execution_count": null,
      "outputs": [
        {
          "output_type": "stream",
          "name": "stdout",
          "text": [
            "Enter a number to check odd or even: 5\n",
            "Odd Number\n"
          ]
        }
      ]
    },
    {
      "cell_type": "markdown",
      "source": [
        "Create a function that calculates the factorial of a number."
      ],
      "metadata": {
        "id": "PQdkeDNvVZ2v"
      }
    },
    {
      "cell_type": "code",
      "source": [
        "def factorial(num):\n",
        "  result = 1\n",
        "  for i in range(1, 1+ num):\n",
        "    result *= i\n",
        "  return result\n",
        "\n",
        "result = factorial(6)\n",
        "print(\"Result is = \", result)"
      ],
      "metadata": {
        "colab": {
          "base_uri": "https://localhost:8080/"
        },
        "id": "GLEE59Y8VbZ5",
        "outputId": "55f62625-6fa0-4376-aebb-c078144f6773"
      },
      "execution_count": null,
      "outputs": [
        {
          "output_type": "stream",
          "name": "stdout",
          "text": [
            "Result is =  720\n"
          ]
        }
      ]
    },
    {
      "cell_type": "markdown",
      "source": [
        "Create a list of your favorite movies, add/remove items, and print each with a loop.\n",
        "\n"
      ],
      "metadata": {
        "id": "Zn6MBab4ZBYp"
      }
    },
    {
      "cell_type": "code",
      "source": [
        "movies = [\"KGF\",\"Geetha Govindam\",\"Soldier\"]\n",
        "movies.remove(\"Soldier\")\n",
        "print(movies)"
      ],
      "metadata": {
        "colab": {
          "base_uri": "https://localhost:8080/"
        },
        "id": "dj5CLKZNZFpX",
        "outputId": "eb6c73f7-91b8-4904-dc6e-54613d5fbd79"
      },
      "execution_count": null,
      "outputs": [
        {
          "output_type": "stream",
          "name": "stdout",
          "text": [
            "['KGF', 'Geetha Govindam']\n"
          ]
        }
      ]
    },
    {
      "cell_type": "markdown",
      "source": [
        "Create a dictionary with your personal details and print each item clearly."
      ],
      "metadata": {
        "id": "G2VxHyoSbAYV"
      }
    },
    {
      "cell_type": "code",
      "source": [
        "my_details : dict = {\n",
        "    \"name\" : \"Sami\",\n",
        "    \"age\": 18,\n",
        "    \"city\": \"Karachi\"\n",
        "}\n",
        "\n",
        "for key, value in my_details.items():\n",
        "  print(key, \":\", value)\n"
      ],
      "metadata": {
        "colab": {
          "base_uri": "https://localhost:8080/"
        },
        "id": "3G3iFtbcbBdQ",
        "outputId": "576d44b2-4823-41cf-c589-033a99f8578b"
      },
      "execution_count": null,
      "outputs": [
        {
          "output_type": "stream",
          "name": "stdout",
          "text": [
            "name : Sami\n",
            "age : 18\n",
            "city : Karachi\n"
          ]
        }
      ]
    },
    {
      "cell_type": "markdown",
      "source": [
        "List of dictionaries (like student records or products)"
      ],
      "metadata": {
        "id": "8FFNCGDocEOZ"
      }
    },
    {
      "cell_type": "code",
      "source": [
        "students_records = [\n",
        "    {\n",
        "        \"name\": \"Sami\",\n",
        "        \"age\": 18,\n",
        "        \"city\": \"Karachi\"\n",
        "    },\n",
        "    {\n",
        "        \"name\": \"Ali\",\n",
        "        \"age\": 19,\n",
        "        \"city\": \"Lahore\"\n",
        "    }\n",
        "]\n",
        "print(type(students_records), \"= \", students_records)\n",
        "print(students_records[0][\"name\"])"
      ],
      "metadata": {
        "colab": {
          "base_uri": "https://localhost:8080/"
        },
        "id": "ecwBEPJ_cFau",
        "outputId": "d2978f21-eb1f-4a4b-c4be-68f67034ff4b"
      },
      "execution_count": null,
      "outputs": [
        {
          "output_type": "stream",
          "name": "stdout",
          "text": [
            "<class 'list'> =  [{'name': 'Sami', 'age': 18, 'city': 'Karachi'}, {'name': 'Ali', 'age': 19, 'city': 'Lahore'}]\n",
            "Sami\n"
          ]
        }
      ]
    },
    {
      "cell_type": "markdown",
      "source": [
        "🔥 🎯 Real-Life Task: \"My Career Profile App\"\n",
        "\n",
        "➤ In this task, you will create your own basic career profile app using Python.\n",
        "\n",
        "✅ Use a **Tuple** to store your personal information like name, age, and city (immutable data).\n",
        "\n",
        "✅ Use a **Set** to store your unique languages (no duplicates allowed).\n",
        "\n",
        "✅ Finally, write all the data into a **file**, and then read and display it.\n",
        "\n",
        "This task combines real-world concepts with Python basics and helps you understand how applications like resume builders work using core Python logic.\n"
      ],
      "metadata": {
        "id": "theddR6MuF6X"
      }
    },
    {
      "cell_type": "code",
      "source": [
        "profile_info = (\"Sami\", 18, \"Karachi\")\n",
        "my_languages = {\"Urdu\", \"English\", \"Sindhi\"}\n",
        "with open(\"profile.txt\", \"w\") as file:\n",
        "  file.write(f\"Name: {profile_info[0]}\\n\")\n",
        "  file.write(f\"Age: {profile_info[1]}\\n\")\n",
        "  file.write(f\"city: {profile_info[2]}\\n\")\n",
        "  file.write(\"Languages:\\n\")\n",
        "  for i in my_languages:\n",
        "   file.write(f\"--{i}\\n\")\n",
        "with open(\"profile.txt\", \"r\") as file:\n",
        "  print(file.read())"
      ],
      "metadata": {
        "colab": {
          "base_uri": "https://localhost:8080/"
        },
        "id": "Y4PJIX4yvUFs",
        "outputId": "c75d1dbd-170a-4a51-bb6f-4ce0ee2a8e18"
      },
      "execution_count": null,
      "outputs": [
        {
          "output_type": "stream",
          "name": "stdout",
          "text": [
            "Name: Sami\n",
            "Age: 18\n",
            "city: Karachi\n",
            "Languages:\n",
            "--English\n",
            "--Urdu\n",
            "--Sindhi\n",
            "\n"
          ]
        }
      ]
    },
    {
      "cell_type": "markdown",
      "source": [
        "Create a class called Car with attributes brand and model. Add a method display_info() that prints both."
      ],
      "metadata": {
        "id": "BX4zzsJTr-SY"
      }
    },
    {
      "cell_type": "code",
      "source": [
        "class Car:\n",
        "  def __init__(self, brand, model):\n",
        "    self.brand = brand\n",
        "    self.model = model\n",
        "  def display_info(self):\n",
        "      print(f\"Brand: {self.brand}\")\n",
        "      print(f\"Model: {self.model}\")\n",
        "\n",
        "my_car = Car(\"Toyota\", \"Corolla\")\n",
        "my_car2 = Car(\"Honda\", \"Civic\")\n",
        "my_car.display_info()\n",
        "my_car2.display_info()\n"
      ],
      "metadata": {
        "colab": {
          "base_uri": "https://localhost:8080/"
        },
        "id": "_V_bsT_Ur_Ie",
        "outputId": "c0670845-2c7d-43f2-f79e-5d38a7fb5378"
      },
      "execution_count": null,
      "outputs": [
        {
          "output_type": "stream",
          "name": "stdout",
          "text": [
            "Brand: Toyota\n",
            "Model: Corolla\n",
            "Brand: Honda\n",
            "Model: Civic\n"
          ]
        }
      ]
    },
    {
      "cell_type": "markdown",
      "source": [
        "Make a class BankAccount that takes name and balance, and has a method check_balance()."
      ],
      "metadata": {
        "id": "EpfYKgCnxrBP"
      }
    },
    {
      "cell_type": "code",
      "source": [
        "class BankAccount:\n",
        "  def __init__(self, name, balance):\n",
        "    self.name = name\n",
        "    self.balance = balance\n",
        "  def check_balance(self):\n",
        "    print(f\"Name: {self.name}\")\n",
        "    print(f\"Balance: {self.balance}\")\n",
        "acc = BankAccount(\"Sami\",2232)\n",
        "acc.check_balance()"
      ],
      "metadata": {
        "colab": {
          "base_uri": "https://localhost:8080/"
        },
        "id": "20K1bPmOxswz",
        "outputId": "24eff38d-08be-4077-aabd-8a29dfc18d21"
      },
      "execution_count": null,
      "outputs": [
        {
          "output_type": "stream",
          "name": "stdout",
          "text": [
            "Name: Sami\n",
            "Balance: 2232\n"
          ]
        }
      ]
    },
    {
      "cell_type": "markdown",
      "source": [
        "Build a class Book with title and author and a method get_details() that returns a formatted string."
      ],
      "metadata": {
        "id": "ejuY9OTeyaWX"
      }
    },
    {
      "cell_type": "code",
      "source": [
        "class Book:\n",
        "  def __init__(self, title, author):\n",
        "    self.title = title\n",
        "    self.author = author\n",
        "  def get_details(self):\n",
        "    return f\"Book Tittle: {self.title} \\n Book Author: {self.author}\"\n",
        "book = Book(\"The Magic\", \"Sami\")\n",
        "print(book.get_details())"
      ],
      "metadata": {
        "colab": {
          "base_uri": "https://localhost:8080/"
        },
        "id": "U2sDUPKIybbj",
        "outputId": "460e1399-1047-401a-e4ec-40820a49553b"
      },
      "execution_count": null,
      "outputs": [
        {
          "output_type": "stream",
          "name": "stdout",
          "text": [
            "Book Tittle: The Magic \n",
            " Book Author: Sami\n"
          ]
        }
      ]
    },
    {
      "cell_type": "markdown",
      "source": [
        "Create a class Rectangle with attributes length and width, and a method area() to return area."
      ],
      "metadata": {
        "id": "2eCuxy9K1X8X"
      }
    },
    {
      "cell_type": "code",
      "source": [
        "class Rectangle:\n",
        "  def __init__(self, length, width):\n",
        "    self.length = length\n",
        "    self.width = width\n",
        "  def area(self):\n",
        "    return self.length * self.width\n",
        "rec = Rectangle(10,20)\n",
        "print(rec.area())"
      ],
      "metadata": {
        "colab": {
          "base_uri": "https://localhost:8080/"
        },
        "id": "dEhRDScL1Y4N",
        "outputId": "84f196e3-709b-4612-c7a9-e19dc36edfb1"
      },
      "execution_count": null,
      "outputs": [
        {
          "output_type": "stream",
          "name": "stdout",
          "text": [
            "200\n"
          ]
        }
      ]
    }
  ]
}